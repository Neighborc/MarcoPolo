{
 "cells": [
  {
   "cell_type": "code",
   "execution_count": 116,
   "metadata": {},
   "outputs": [],
   "source": [
    "from statemachine import StateMachine, State\n",
    "from statemachine.exceptions import TransitionNotAllowed"
   ]
  },
  {
   "cell_type": "code",
   "execution_count": 117,
   "metadata": {},
   "outputs": [],
   "source": [
    "class MPState(StateMachine):\n",
    "    \"\"\"\n",
    "    State machine defining Marco Polo\n",
    "    \"\"\"\n",
    "    # List of States\n",
    "    initializing = State('Initializing', initial=True)\n",
    "    search_mapping = State('Searching - Mapping')\n",
    "    search_paused = State('Searching - Paused')\n",
    "    ballfound_mapping = State(\"Ball Found - Mapping\")\n",
    "    ballfound_paused = State(\"Ball Found - Paused\")\n",
    "\n",
    "    # Events which will trigger transitions\n",
    "    begin_mapping = initializing.to(search_mapping)\n",
    "    found_ball = search_mapping.to(ballfound_mapping)\n",
    "    \n",
    "    ball_found_pause = ballfound_mapping.to(ballfound_paused)\n",
    "    ball_found_unpause = ballfound_paused.to(ballfound_mapping)\n",
    "    \n",
    "    searching_pause = search_mapping.to(search_paused)\n",
    "    searching_unpause = search_paused.to(search_mapping)\n",
    "    \n",
    "    def resume(self):\n",
    "        if self.current_state == self.search_paused:\n",
    "            self.searching_unpause()\n",
    "        elif self.current_state == self.ballfound_paused:\n",
    "            self.ball_found_unpause()        \n",
    "    \n",
    "    def pause(self):\n",
    "        if self.current_state == self.search_mapping:\n",
    "            self.searching_pause()\n",
    "        elif self.current_state == self.ballfound_mapping:\n",
    "            self.ball_found_pause()\n",
    "            \n",
    "    def __init__(self):\n",
    "        super(MPState, self).__init__()\n",
    "\n",
    "    def on_enter_search_mapping(self):\n",
    "        print(\"Now searching for the ball ...\")\n",
    "        # Code to begin robot movement\n",
    "\n",
    "    def on_enter_ballfound_mapping(self):\n",
    "        print(\"Found the ball!  Continuing mapping ...\")\n",
    "        \n",
    "    def on_enter_search_paused(self):\n",
    "        print(\"Pausing search for ball ...\")\n",
    "    \n",
    "    def on_enter_ballfound_paused(self):\n",
    "        print(\"Pausing continous mapping.  Ball location is still known\")\n",
    "    "
   ]
  },
  {
   "cell_type": "code",
   "execution_count": 118,
   "metadata": {},
   "outputs": [
    {
     "name": "stdout",
     "output_type": "stream",
     "text": [
      "Now searching for the ball ...\n"
     ]
    },
    {
     "data": {
      "text/plain": [
       "'search_mapping'"
      ]
     },
     "execution_count": 118,
     "metadata": {},
     "output_type": "execute_result"
    }
   ],
   "source": [
    "mpstate = MPState()\n",
    "mpstate.begin_mapping()\n",
    "mpstate.current_state_value"
   ]
  },
  {
   "cell_type": "code",
   "execution_count": 119,
   "metadata": {},
   "outputs": [
    {
     "name": "stdout",
     "output_type": "stream",
     "text": [
      "Pausing search for ball ...\n"
     ]
    }
   ],
   "source": [
    "mpstate.pause()"
   ]
  },
  {
   "cell_type": "code",
   "execution_count": 120,
   "metadata": {},
   "outputs": [
    {
     "data": {
      "text/plain": [
       "'search_paused'"
      ]
     },
     "execution_count": 120,
     "metadata": {},
     "output_type": "execute_result"
    }
   ],
   "source": [
    "mpstate.current_state_value"
   ]
  },
  {
   "cell_type": "code",
   "execution_count": 121,
   "metadata": {},
   "outputs": [
    {
     "name": "stdout",
     "output_type": "stream",
     "text": [
      "Now searching for the ball ...\n"
     ]
    }
   ],
   "source": [
    "mpstate.resume()"
   ]
  },
  {
   "cell_type": "code",
   "execution_count": 122,
   "metadata": {},
   "outputs": [
    {
     "name": "stdout",
     "output_type": "stream",
     "text": [
      "Pausing search for ball ...\n"
     ]
    }
   ],
   "source": [
    "mpstate.pause()"
   ]
  },
  {
   "cell_type": "code",
   "execution_count": null,
   "metadata": {},
   "outputs": [],
   "source": []
  },
  {
   "cell_type": "code",
   "execution_count": 124,
   "metadata": {},
   "outputs": [
    {
     "name": "stdout",
     "output_type": "stream",
     "text": [
      "Can't found_ball when in Searching - Paused.\n"
     ]
    }
   ],
   "source": [
    "try:\n",
    "    mpstate.found_ball()\n",
    "except TransitionNotAllowed as error:\n",
    "    print(error)"
   ]
  },
  {
   "cell_type": "code",
   "execution_count": null,
   "metadata": {},
   "outputs": [],
   "source": []
  },
  {
   "cell_type": "code",
   "execution_count": null,
   "metadata": {},
   "outputs": [],
   "source": []
  }
 ],
 "metadata": {
  "kernelspec": {
   "display_name": "Python 2",
   "language": "python",
   "name": "python2"
  },
  "language_info": {
   "codemirror_mode": {
    "name": "ipython",
    "version": 2
   },
   "file_extension": ".py",
   "mimetype": "text/x-python",
   "name": "python",
   "nbconvert_exporter": "python",
   "pygments_lexer": "ipython2",
   "version": "2.7.15+"
  }
 },
 "nbformat": 4,
 "nbformat_minor": 2
}
