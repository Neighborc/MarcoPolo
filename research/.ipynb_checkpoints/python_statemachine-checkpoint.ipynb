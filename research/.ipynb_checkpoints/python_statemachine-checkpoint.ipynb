{
 "cells": [
  {
   "cell_type": "code",
   "execution_count": 55,
   "metadata": {},
   "outputs": [],
   "source": [
    "from statemachine import StateMachine, State"
   ]
  },
  {
   "cell_type": "code",
   "execution_count": 56,
   "metadata": {},
   "outputs": [],
   "source": [
    "class MPState(StateMachine):\n",
    "    \"\"\"\n",
    "    State machine defining Marco Polo\n",
    "    \"\"\"\n",
    "    # List of States\n",
    "    initializing = State('Initializing', initial=True)\n",
    "    search_mapping = State('Searching - Mapping')\n",
    "    search_paused = State('Searching - Paused')\n",
    "    ballfound_mapping = State(\"Ball Found - Mapping\")\n",
    "    ballfound_paused = State(\"Ball Found - Paused\")\n",
    "\n",
    "    # Events which will trigger transitions\n",
    "    begin_mapping = initializing.to(search_mapping)\n",
    "    found_ball = search_mapping.to(ballfound_mapping)\n",
    "    \n",
    "    ball_found_pause = ballfound_mapping.to(ballfound_paused)\n",
    "    ball_found_unpause = ballfound_paused.to(ballfound_mapping)\n",
    "    \n",
    "    searching_pause = search_mapping.to(search_paused)\n",
    "    searching_unpause = search_paused.to(search_mapping)\n",
    "    \n",
    "    def resume(self):\n",
    "        if self.current_state == self.search_paused:\n",
    "            print(\"Pausing to Searching - Paused\")\n",
    "            self.searching_unpause()\n",
    "        elif self.current_state == self.ballfound_paused:\n",
    "            print(\"Pausing to Ball Found - Paused\")\n",
    "            self.ball_found_unpause()        \n",
    "    \n",
    "    def pause(self):\n",
    "        if self.current_state == self.search_mapping:\n",
    "            print(\"Pausing to Searching - Paused\")\n",
    "            self.searching_pause()\n",
    "        elif self.current_state == self.ballfound_mapping:\n",
    "            print(\"Pausing to Ball Found - Paused\")\n",
    "            self.ball_found_pause()\n",
    "            \n",
    "    def __init__(self):\n",
    "        super(MPState, self).__init__()\n",
    "\n",
    "    def on_enter_search_mapping(self):\n",
    "        print(\"Beginning Mapping Process - Standby - Roaming\")\n",
    "        # Code to begin robot movement\n",
    "\n",
    "    def on_enter_ballfound_mapping(self):\n",
    "        print(\"Found the ball!  Continuing mapping.\")\n",
    "    "
   ]
  },
  {
   "cell_type": "code",
   "execution_count": 57,
   "metadata": {},
   "outputs": [
    {
     "name": "stdout",
     "output_type": "stream",
     "text": [
      "Beginning Mapping Process - Standby - Roaming\n"
     ]
    },
    {
     "data": {
      "text/plain": [
       "'search_mapping'"
      ]
     },
     "execution_count": 57,
     "metadata": {},
     "output_type": "execute_result"
    }
   ],
   "source": [
    "mpstate = MPState()\n",
    "mpstate.begin_mapping()\n",
    "mpstate.current_state_value"
   ]
  },
  {
   "cell_type": "code",
   "execution_count": 58,
   "metadata": {},
   "outputs": [
    {
     "name": "stdout",
     "output_type": "stream",
     "text": [
      "Pausing to Searching - Paused\n"
     ]
    },
    {
     "ename": "AttributeError",
     "evalue": "'MPState' object has no attribute 'ball_not_found_pause'",
     "output_type": "error",
     "traceback": [
      "\u001b[0;31m---------------------------------------------------------------------------\u001b[0m",
      "\u001b[0;31mAttributeError\u001b[0m                            Traceback (most recent call last)",
      "\u001b[0;32m<ipython-input-58-fd01dca2064c>\u001b[0m in \u001b[0;36m<module>\u001b[0;34m()\u001b[0m\n\u001b[0;32m----> 1\u001b[0;31m \u001b[0mmpstate\u001b[0m\u001b[0;34m.\u001b[0m\u001b[0mpause\u001b[0m\u001b[0;34m(\u001b[0m\u001b[0;34m)\u001b[0m\u001b[0;34m\u001b[0m\u001b[0;34m\u001b[0m\u001b[0m\n\u001b[0m",
      "\u001b[0;32m<ipython-input-56-bf54df031f6e>\u001b[0m in \u001b[0;36mpause\u001b[0;34m(self)\u001b[0m\n\u001b[1;32m     31\u001b[0m         \u001b[0;32mif\u001b[0m \u001b[0mself\u001b[0m\u001b[0;34m.\u001b[0m\u001b[0mcurrent_state\u001b[0m \u001b[0;34m==\u001b[0m \u001b[0mself\u001b[0m\u001b[0;34m.\u001b[0m\u001b[0msearch_mapping\u001b[0m\u001b[0;34m:\u001b[0m\u001b[0;34m\u001b[0m\u001b[0;34m\u001b[0m\u001b[0m\n\u001b[1;32m     32\u001b[0m             \u001b[0;32mprint\u001b[0m\u001b[0;34m(\u001b[0m\u001b[0;34m\"Pausing to Searching - Paused\"\u001b[0m\u001b[0;34m)\u001b[0m\u001b[0;34m\u001b[0m\u001b[0;34m\u001b[0m\u001b[0m\n\u001b[0;32m---> 33\u001b[0;31m             \u001b[0mself\u001b[0m\u001b[0;34m.\u001b[0m\u001b[0mball_not_found_pause\u001b[0m\u001b[0;34m(\u001b[0m\u001b[0;34m)\u001b[0m\u001b[0;34m\u001b[0m\u001b[0;34m\u001b[0m\u001b[0m\n\u001b[0m\u001b[1;32m     34\u001b[0m         \u001b[0;32melif\u001b[0m \u001b[0mself\u001b[0m\u001b[0;34m.\u001b[0m\u001b[0mcurrent_state\u001b[0m \u001b[0;34m==\u001b[0m \u001b[0mself\u001b[0m\u001b[0;34m.\u001b[0m\u001b[0mballfound_mapping\u001b[0m\u001b[0;34m:\u001b[0m\u001b[0;34m\u001b[0m\u001b[0;34m\u001b[0m\u001b[0m\n\u001b[1;32m     35\u001b[0m             \u001b[0;32mprint\u001b[0m\u001b[0;34m(\u001b[0m\u001b[0;34m\"Pausing to Ball Found - Paused\"\u001b[0m\u001b[0;34m)\u001b[0m\u001b[0;34m\u001b[0m\u001b[0;34m\u001b[0m\u001b[0m\n",
      "\u001b[0;31mAttributeError\u001b[0m: 'MPState' object has no attribute 'ball_not_found_pause'"
     ]
    }
   ],
   "source": [
    "mpstate.pause()"
   ]
  },
  {
   "cell_type": "code",
   "execution_count": 54,
   "metadata": {},
   "outputs": [
    {
     "data": {
      "text/plain": [
       "'search_mapping_paused'"
      ]
     },
     "execution_count": 54,
     "metadata": {},
     "output_type": "execute_result"
    }
   ],
   "source": [
    "mpstate.current_state_value"
   ]
  },
  {
   "cell_type": "code",
   "execution_count": null,
   "metadata": {},
   "outputs": [],
   "source": []
  }
 ],
 "metadata": {
  "kernelspec": {
   "display_name": "Python 2",
   "language": "python",
   "name": "python2"
  },
  "language_info": {
   "codemirror_mode": {
    "name": "ipython",
    "version": 2
   },
   "file_extension": ".py",
   "mimetype": "text/x-python",
   "name": "python",
   "nbconvert_exporter": "python",
   "pygments_lexer": "ipython2",
   "version": "2.7.15+"
  }
 },
 "nbformat": 4,
 "nbformat_minor": 2
}
